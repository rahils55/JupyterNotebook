{
 "cells": [
  {
   "cell_type": "code",
   "execution_count": null,
   "metadata": {
    "_cell_guid": "b1076dfc-b9ad-4769-8c92-a6c4dae69d19",
    "_uuid": "8f2839f25d086af736a60e9eeb907d3b93b6e0e5",
    "execution": {
     "iopub.execute_input": "2022-08-14T13:15:51.014279Z",
     "iopub.status.busy": "2022-08-14T13:15:51.012896Z",
     "iopub.status.idle": "2022-08-14T13:15:51.028219Z",
     "shell.execute_reply": "2022-08-14T13:15:51.026792Z",
     "shell.execute_reply.started": "2022-08-14T13:15:51.014212Z"
    }
   },
   "outputs": [],
   "source": [
    "# This Python 3 environment comes with many helpful analytics libraries installed\n",
    "# It is defined by the kaggle/python Docker image: https://github.com/kaggle/docker-python\n",
    "# For example, here's several helpful packages to load\n",
    "\n",
    "import numpy as np  # linear algebra\n",
    "import pandas as pd  # data processing, CSV file I/O (e.g. pd.read_csv)\n",
    "import seaborn as sns\n",
    "import matplotlib.pyplot as plt\n",
    "\n",
    "# Input data files are available in the read-only \"../input/\" directory\n",
    "# For example, running this (by clicking run or pressing Shift+Enter) will list all files under the input directory\n",
    "\n",
    "import os\n",
    "for dirname, _, filenames in os.walk('/kaggle/input'):\n",
    "    for filename in filenames:\n",
    "        print(os.path.join(dirname, filename))\n",
    "\n",
    "# You can write up to 20GB to the current directory (/kaggle/working/) that gets preserved as output when you create a version using \"Save & Run All\"\n",
    "# You can also write temporary files to /kaggle/temp/, but they won't be saved outside of the current session"
   ]
  },
  {
   "cell_type": "code",
   "execution_count": null,
   "metadata": {
    "execution": {
     "iopub.execute_input": "2022-08-14T13:15:56.739000Z",
     "iopub.status.busy": "2022-08-14T13:15:56.737893Z",
     "iopub.status.idle": "2022-08-14T13:15:56.790443Z",
     "shell.execute_reply": "2022-08-14T13:15:56.789280Z",
     "shell.execute_reply.started": "2022-08-14T13:15:56.738960Z"
    }
   },
   "outputs": [],
   "source": [
    "#Reading the train data set into a pandas data frame and printing the head\n",
    "SpaceshipTitanicFilePath = \"../input/spaceship-titanic/train.csv\"\n",
    "SpaceshipTitsnicDataFrame = pd.read_csv(SpaceshipTitanicFilePath)\n",
    "SpaceshipTitsnicDataFrame.head()"
   ]
  },
  {
   "cell_type": "code",
   "execution_count": null,
   "metadata": {},
   "outputs": [],
   "source": [
    "#Reading the test data set into a pandas data frame and printing the head\n",
    "SpaceshipTitanicFilePath_test = \"../input/spaceship-titanic/test.csv\"\n",
    "SpaceshipTitsnicDataFrame_test = pd.read_csv(SpaceshipTitanicFilePath_test)\n",
    "SpaceshipTitsnicDataFrame_test.head()"
   ]
  },
  {
   "cell_type": "code",
   "execution_count": null,
   "metadata": {},
   "outputs": [],
   "source": [
    "SpaceshipTitsnicDataFrame.shape"
   ]
  },
  {
   "cell_type": "code",
   "execution_count": null,
   "metadata": {},
   "outputs": [],
   "source": [
    "SpaceshipTitsnicDataFrame.size"
   ]
  },
  {
   "cell_type": "code",
   "execution_count": null,
   "metadata": {
    "execution": {
     "iopub.execute_input": "2022-08-14T13:16:00.421684Z",
     "iopub.status.busy": "2022-08-14T13:16:00.421259Z",
     "iopub.status.idle": "2022-08-14T13:16:00.444263Z",
     "shell.execute_reply": "2022-08-14T13:16:00.442677Z",
     "shell.execute_reply.started": "2022-08-14T13:16:00.421648Z"
    }
   },
   "outputs": [],
   "source": [
    "SpaceshipTitsnicDataFrame.info()"
   ]
  },
  {
   "cell_type": "code",
   "execution_count": null,
   "metadata": {},
   "outputs": [],
   "source": [
    "SpaceshipTitsnicDataFrame.describe().transpose()"
   ]
  },
  {
   "cell_type": "code",
   "execution_count": null,
   "metadata": {
    "execution": {
     "iopub.execute_input": "2022-08-14T13:16:04.811739Z",
     "iopub.status.busy": "2022-08-14T13:16:04.811230Z",
     "iopub.status.idle": "2022-08-14T13:16:04.829366Z",
     "shell.execute_reply": "2022-08-14T13:16:04.828365Z",
     "shell.execute_reply.started": "2022-08-14T13:16:04.811692Z"
    }
   },
   "outputs": [],
   "source": [
    "SpaceshipTitsnicDataFrame.isnull().sum()"
   ]
  },
  {
   "cell_type": "markdown",
   "metadata": {},
   "source": [
    "<h6>Checking for classes in features</h6>"
   ]
  },
  {
   "cell_type": "code",
   "execution_count": null,
   "metadata": {
    "execution": {
     "iopub.execute_input": "2022-08-14T13:16:08.122113Z",
     "iopub.status.busy": "2022-08-14T13:16:08.121679Z",
     "iopub.status.idle": "2022-08-14T13:16:08.131635Z",
     "shell.execute_reply": "2022-08-14T13:16:08.130667Z",
     "shell.execute_reply.started": "2022-08-14T13:16:08.122078Z"
    }
   },
   "outputs": [],
   "source": [
    "SpaceshipTitsnicDataFrame[\"HomePlanet\"].unique()"
   ]
  },
  {
   "cell_type": "code",
   "execution_count": null,
   "metadata": {
    "execution": {
     "iopub.execute_input": "2022-08-14T11:47:52.947285Z",
     "iopub.status.busy": "2022-08-14T11:47:52.946885Z",
     "iopub.status.idle": "2022-08-14T11:47:52.959872Z",
     "shell.execute_reply": "2022-08-14T11:47:52.958383Z",
     "shell.execute_reply.started": "2022-08-14T11:47:52.947253Z"
    }
   },
   "outputs": [],
   "source": [
    "SpaceshipTitsnicDataFrame[\"Transported\"].unique()"
   ]
  },
  {
   "cell_type": "code",
   "execution_count": null,
   "metadata": {
    "execution": {
     "iopub.execute_input": "2022-08-14T11:48:05.232436Z",
     "iopub.status.busy": "2022-08-14T11:48:05.232013Z",
     "iopub.status.idle": "2022-08-14T11:48:05.241500Z",
     "shell.execute_reply": "2022-08-14T11:48:05.240292Z",
     "shell.execute_reply.started": "2022-08-14T11:48:05.232405Z"
    }
   },
   "outputs": [],
   "source": [
    "SpaceshipTitsnicDataFrame[\"Destination\"].unique()"
   ]
  },
  {
   "cell_type": "code",
   "execution_count": null,
   "metadata": {
    "execution": {
     "iopub.execute_input": "2022-08-14T11:48:13.704374Z",
     "iopub.status.busy": "2022-08-14T11:48:13.702987Z",
     "iopub.status.idle": "2022-08-14T11:48:13.717480Z",
     "shell.execute_reply": "2022-08-14T11:48:13.715652Z",
     "shell.execute_reply.started": "2022-08-14T11:48:13.704329Z"
    }
   },
   "outputs": [],
   "source": [
    "SpaceshipTitsnicDataFrame[\"VIP\"].unique()"
   ]
  },
  {
   "cell_type": "markdown",
   "metadata": {
    "execution": {
     "iopub.execute_input": "2022-08-14T13:16:13.332587Z",
     "iopub.status.busy": "2022-08-14T13:16:13.332151Z",
     "iopub.status.idle": "2022-08-14T13:16:13.377774Z",
     "shell.execute_reply": "2022-08-14T13:16:13.376132Z",
     "shell.execute_reply.started": "2022-08-14T13:16:13.332553Z"
    }
   },
   "source": [
    "### EDA & Preprocessing"
   ]
  },
  {
   "cell_type": "code",
   "execution_count": null,
   "metadata": {
    "execution": {
     "iopub.execute_input": "2022-08-14T13:16:16.787283Z",
     "iopub.status.busy": "2022-08-14T13:16:16.786844Z",
     "iopub.status.idle": "2022-08-14T13:16:16.936293Z",
     "shell.execute_reply": "2022-08-14T13:16:16.934530Z",
     "shell.execute_reply.started": "2022-08-14T13:16:16.787246Z"
    }
   },
   "outputs": [],
   "source": [
    "#Plotting a frequency histogram for Homeplanet\n",
    "sns.histplot(SpaceshipTitsnicDataFrame.HomePlanet, color='Green')"
   ]
  },
  {
   "cell_type": "markdown",
   "metadata": {},
   "source": [
    "<p>Earth is the most common HomePlanet</p>"
   ]
  },
  {
   "cell_type": "code",
   "execution_count": null,
   "metadata": {},
   "outputs": [],
   "source": [
    "#Plotting a frequency histogram for CryoSleep\n",
    "sns.histplot(SpaceshipTitsnicDataFrame.CryoSleep, color='Green')"
   ]
  },
  {
   "cell_type": "markdown",
   "metadata": {},
   "source": [
    "<p>Most of the passengers were not put into a cryosleep state</p>"
   ]
  },
  {
   "cell_type": "code",
   "execution_count": null,
   "metadata": {
    "execution": {
     "iopub.execute_input": "2022-08-14T13:16:21.241982Z",
     "iopub.status.busy": "2022-08-14T13:16:21.241568Z",
     "iopub.status.idle": "2022-08-14T13:16:21.466146Z",
     "shell.execute_reply": "2022-08-14T13:16:21.465048Z",
     "shell.execute_reply.started": "2022-08-14T13:16:21.241951Z"
    }
   },
   "outputs": [],
   "source": [
    "#Plotting a frequency histogram for Destination\n",
    "sns.histplot(SpaceshipTitsnicDataFrame.Destination, color='Green')"
   ]
  },
  {
   "cell_type": "markdown",
   "metadata": {},
   "source": [
    "<p> Most of the passengers going to TRAPPIST-1e </p>"
   ]
  },
  {
   "cell_type": "code",
   "execution_count": null,
   "metadata": {
    "execution": {
     "iopub.execute_input": "2022-08-14T11:56:16.872731Z",
     "iopub.status.busy": "2022-08-14T11:56:16.872316Z",
     "iopub.status.idle": "2022-08-14T11:56:17.198847Z",
     "shell.execute_reply": "2022-08-14T11:56:17.197488Z",
     "shell.execute_reply.started": "2022-08-14T11:56:16.872697Z"
    }
   },
   "outputs": [],
   "source": [
    "#Plotting a frequency histogram for Age\n",
    "sns.histplot(SpaceshipTitsnicDataFrame.Age, color='Green', kde=True)"
   ]
  },
  {
   "cell_type": "code",
   "execution_count": null,
   "metadata": {},
   "outputs": [],
   "source": [
    "#Printing statistical values for Age\n",
    "SpaceshipTitsnicDataFrame['Age'].info()"
   ]
  },
  {
   "cell_type": "code",
   "execution_count": null,
   "metadata": {
    "execution": {
     "iopub.execute_input": "2022-08-14T13:28:10.802329Z",
     "iopub.status.busy": "2022-08-14T13:28:10.801885Z",
     "iopub.status.idle": "2022-08-14T13:28:11.051318Z",
     "shell.execute_reply": "2022-08-14T13:28:11.049907Z",
     "shell.execute_reply.started": "2022-08-14T13:28:10.802295Z"
    }
   },
   "outputs": [],
   "source": [
    "#Converting age feature into age groups of 0-20,21-40,41-60 & 61-80 in train data set\n",
    "ageList = []\n",
    "for x in range(len(SpaceshipTitsnicDataFrame[\"Age\"])):\n",
    "    if (SpaceshipTitsnicDataFrame[\"Age\"][x] >=\n",
    "            0) & (SpaceshipTitsnicDataFrame[\"Age\"][x] <= 20):\n",
    "        ageList.append(1)\n",
    "    elif (SpaceshipTitsnicDataFrame[\"Age\"][x] >\n",
    "          20) & (SpaceshipTitsnicDataFrame[\"Age\"][x] <= 40):\n",
    "        ageList.append(2)\n",
    "    elif (SpaceshipTitsnicDataFrame[\"Age\"][x] >\n",
    "          40) & (SpaceshipTitsnicDataFrame[\"Age\"][x] <= 60):\n",
    "        ageList.append(3)\n",
    "    else:\n",
    "        ageList.append(4)\n",
    "\n",
    "SpaceshipTitsnicDataFrame[\"ageList\"] = ageList\n",
    "SpaceshipTitsnicDataFrame[\"ageList\"]"
   ]
  },
  {
   "cell_type": "code",
   "execution_count": null,
   "metadata": {},
   "outputs": [],
   "source": [
    "#Converting age feature into age groups of 0-20,21-40,41-60 & 61-80 in test data set\n",
    "ageList_test = []\n",
    "for x in range(len(SpaceshipTitsnicDataFrame_test[\"Age\"])):\n",
    "    if (SpaceshipTitsnicDataFrame_test[\"Age\"][x] >=\n",
    "            0) & (SpaceshipTitsnicDataFrame_test[\"Age\"][x] <= 20):\n",
    "        ageList.append(1)\n",
    "    elif (SpaceshipTitsnicDataFrame_test[\"Age\"][x] >\n",
    "          20) & (SpaceshipTitsnicDataFrame_test[\"Age\"][x] <= 40):\n",
    "        ageList.append(2)\n",
    "    elif (SpaceshipTitsnicDataFrame_test[\"Age\"][x] >\n",
    "          40) & (SpaceshipTitsnicDataFrame_test[\"Age\"][x] <= 60):\n",
    "        ageList.append(3)\n",
    "    else:\n",
    "        ageList.append(4)\n",
    "\n",
    "SpaceshipTitsnicDataFrame_test[\"ageList\"] = ageList_test\n",
    "SpaceshipTitsnicDataFrame_test[\"ageList\"]"
   ]
  },
  {
   "cell_type": "code",
   "execution_count": null,
   "metadata": {},
   "outputs": [],
   "source": [
    "#Plotting frquency histrogram of age groups\n",
    "sns.countplot(SpaceshipTitsnicDataFrame.ageList, color='Green')"
   ]
  },
  {
   "cell_type": "markdown",
   "metadata": {},
   "source": [
    "<p>Majority of the people travelling belong to the age group of 20-40</p>"
   ]
  },
  {
   "cell_type": "code",
   "execution_count": null,
   "metadata": {
    "execution": {
     "iopub.execute_input": "2022-08-14T13:16:25.541123Z",
     "iopub.status.busy": "2022-08-14T13:16:25.540713Z",
     "iopub.status.idle": "2022-08-14T13:16:25.547913Z",
     "shell.execute_reply": "2022-08-14T13:16:25.546736Z",
     "shell.execute_reply.started": "2022-08-14T13:16:25.541090Z"
    }
   },
   "outputs": [],
   "source": [
    "#Converting output variable into binary and plotting frquency historgram\n",
    "SpaceshipTitsnicDataFrame[\"Transported\"] = SpaceshipTitsnicDataFrame[\n",
    "    \"Transported\"].astype(\"int\")\n",
    "sns.countplot(SpaceshipTitsnicDataFrame.Transported, color='Green')"
   ]
  },
  {
   "cell_type": "markdown",
   "metadata": {},
   "source": [
    "<p>There are an approximately equal number of transported passengers and non-transported passengers. The target variable has balanced classes</p>\n"
   ]
  },
  {
   "cell_type": "code",
   "execution_count": null,
   "metadata": {
    "execution": {
     "iopub.execute_input": "2022-08-14T13:16:32.583859Z",
     "iopub.status.busy": "2022-08-14T13:16:32.582795Z",
     "iopub.status.idle": "2022-08-14T13:16:32.615266Z",
     "shell.execute_reply": "2022-08-14T13:16:32.614214Z",
     "shell.execute_reply.started": "2022-08-14T13:16:32.583812Z"
    }
   },
   "outputs": [],
   "source": [
    "#Splitting & extracting Group ID from Passenger ID feature in train data set\n",
    "SpaceshipTitsnicDataFrame[\n",
    "    \"passGrp\"] = SpaceshipTitsnicDataFrame.PassengerId.str.split(\n",
    "        \"_\", expand=True)[0]\n",
    "SpaceshipTitsnicDataFrame[\"passGrp\"]"
   ]
  },
  {
   "cell_type": "code",
   "execution_count": null,
   "metadata": {},
   "outputs": [],
   "source": [
    "#Splitting & extracting Group ID from Passenger ID feature in test data set\n",
    "SpaceshipTitsnicDataFrame_test[\n",
    "    \"passGrp\"] = SpaceshipTitsnicDataFrame_test.PassengerId.str.split(\n",
    "        \"_\", expand=True)[0]\n",
    "SpaceshipTitsnicDataFrame_test[\"passGrp\"]"
   ]
  },
  {
   "cell_type": "code",
   "execution_count": null,
   "metadata": {
    "execution": {
     "iopub.execute_input": "2022-08-14T13:16:35.523045Z",
     "iopub.status.busy": "2022-08-14T13:16:35.521679Z",
     "iopub.status.idle": "2022-08-14T13:16:35.585554Z",
     "shell.execute_reply": "2022-08-14T13:16:35.584158Z",
     "shell.execute_reply.started": "2022-08-14T13:16:35.522998Z"
    }
   },
   "outputs": [],
   "source": [
    "#Splitting & extracting Deck,Cabin & Side from Cabin feature in the train data set  \n",
    "SpaceshipTitsnicDataFrame[\"CabinDeck\"] = SpaceshipTitsnicDataFrame.Cabin.str.split(\"/\", expand = True)[0]\n",
    "SpaceshipTitsnicDataFrame[\"CabinNum\"] = SpaceshipTitsnicDataFrame.Cabin.str.split(\"/\", expand = True)[1]\n",
    "SpaceshipTitsnicDataFrame[\"CabinSide\"] = SpaceshipTitsnicDataFrame.Cabin.str.split(\"/\", expand = True)[2]"
   ]
  },
  {
   "cell_type": "code",
   "execution_count": null,
   "metadata": {
    "execution": {
     "iopub.execute_input": "2022-08-14T13:16:39.561950Z",
     "iopub.status.busy": "2022-08-14T13:16:39.560909Z",
     "iopub.status.idle": "2022-08-14T13:16:39.571924Z",
     "shell.execute_reply": "2022-08-14T13:16:39.570651Z",
     "shell.execute_reply.started": "2022-08-14T13:16:39.561894Z"
    }
   },
   "outputs": [],
   "source": [
    "print(SpaceshipTitsnicDataFrame[\"CabinDeck\"]), print(\n",
    "    SpaceshipTitsnicDataFrame[\"CabinNum\"]), print(\n",
    "        SpaceshipTitsnicDataFrame[\"CabinSide\"])"
   ]
  },
  {
   "cell_type": "code",
   "execution_count": null,
   "metadata": {},
   "outputs": [],
   "source": [
    "#Splitting & extracting Deck,Cabin & Side from Cabin feature in the test data set\n",
    "SpaceshipTitsnicDataFrame_test[\n",
    "    \"CabinDeck\"] = SpaceshipTitsnicDataFrame_test.Cabin.str.split(\n",
    "        \"/\", expand=True)[0]\n",
    "SpaceshipTitsnicDataFrame_test[\n",
    "    \"CabinNum\"] = SpaceshipTitsnicDataFrame_test.Cabin.str.split(\n",
    "        \"/\", expand=True)[1]\n",
    "SpaceshipTitsnicDataFrame_test[\n",
    "    \"CabinSide\"] = SpaceshipTitsnicDataFrame_test.Cabin.str.split(\n",
    "        \"/\", expand=True)[2]"
   ]
  },
  {
   "cell_type": "code",
   "execution_count": null,
   "metadata": {},
   "outputs": [],
   "source": [
    "#Plotting features vs age \n",
    "fix, ax = plt.subplots(2,2 , figsize = (16,6))\n",
    "sns.boxplot(data = SpaceshipTitsnicDataFrame, y = \"ageList\", x = \"Destination\", ax = ax[0,0])\n",
    "sns.boxplot(data = SpaceshipTitsnicDataFrame, y = \"ageList\", x = \"VIP\", ax = ax[0,1])\n",
    "sns.boxplot(data = SpaceshipTitsnicDataFrame, y = \"ageList\", x = \"HomePlanet\", ax = ax[1,0])\n",
    "sns.boxplot(data = SpaceshipTitsnicDataFrame, y = \"ageList\", x = \"CryoSleep\", ax = ax[1,1])\n",
    "plt.show()"
   ]
  },
  {
   "cell_type": "code",
   "execution_count": null,
   "metadata": {},
   "outputs": [],
   "source": [
    "#Plotting categorical features against the target feature  \n",
    "\n",
    "fix, ax = plt.subplots(2,2 , figsize = (16,6))\n",
    "\n",
    "sns.barplot(data=SpaceshipTitsnicDataFrame, x=\"HomePlanet\", hue = \"Transported\", ax = ax[0,0])\n",
    "\n",
    "plt.show()\n"
   ]
  },
  {
   "cell_type": "code",
   "execution_count": null,
   "metadata": {},
   "outputs": [],
   "source": []
  },
  {
   "cell_type": "code",
   "execution_count": null,
   "metadata": {},
   "outputs": [],
   "source": []
  },
  {
   "cell_type": "code",
   "execution_count": null,
   "metadata": {},
   "outputs": [],
   "source": []
  },
  {
   "cell_type": "code",
   "execution_count": null,
   "metadata": {},
   "outputs": [],
   "source": []
  },
  {
   "cell_type": "code",
   "execution_count": null,
   "metadata": {},
   "outputs": [],
   "source": []
  },
  {
   "cell_type": "code",
   "execution_count": null,
   "metadata": {
    "execution": {
     "iopub.execute_input": "2022-08-14T13:16:42.901670Z",
     "iopub.status.busy": "2022-08-14T13:16:42.901234Z",
     "iopub.status.idle": "2022-08-14T13:16:42.910722Z",
     "shell.execute_reply": "2022-08-14T13:16:42.909665Z",
     "shell.execute_reply.started": "2022-08-14T13:16:42.901620Z"
    }
   },
   "outputs": [],
   "source": [
    "#Dropping features that are not required in the train & test data set\n",
    "SpaceshipTitsnicDataFrame.drop([\"PassengerId\",\"Cabin\",\"Age\",\"Name\"], axis = 1)\n",
    "SpaceshipTitsnicDataFrame_test.drop([\"PassengerId\",\"Cabin\",\"Age\",\"Name\"], axis = 1)"
   ]
  },
  {
   "cell_type": "code",
   "execution_count": null,
   "metadata": {
    "execution": {
     "iopub.execute_input": "2022-08-14T13:16:45.672230Z",
     "iopub.status.busy": "2022-08-14T13:16:45.671287Z",
     "iopub.status.idle": "2022-08-14T13:16:45.683872Z",
     "shell.execute_reply": "2022-08-14T13:16:45.682521Z",
     "shell.execute_reply.started": "2022-08-14T13:16:45.672175Z"
    }
   },
   "outputs": [],
   "source": []
  },
  {
   "cell_type": "code",
   "execution_count": null,
   "metadata": {
    "execution": {
     "iopub.execute_input": "2022-08-14T13:16:50.272331Z",
     "iopub.status.busy": "2022-08-14T13:16:50.271455Z",
     "iopub.status.idle": "2022-08-14T13:16:50.280371Z",
     "shell.execute_reply": "2022-08-14T13:16:50.278928Z",
     "shell.execute_reply.started": "2022-08-14T13:16:50.272285Z"
    }
   },
   "outputs": [],
   "source": []
  },
  {
   "cell_type": "code",
   "execution_count": null,
   "metadata": {
    "execution": {
     "iopub.execute_input": "2022-08-14T13:16:53.872009Z",
     "iopub.status.busy": "2022-08-14T13:16:53.871308Z",
     "iopub.status.idle": "2022-08-14T13:16:53.910853Z",
     "shell.execute_reply": "2022-08-14T13:16:53.909723Z",
     "shell.execute_reply.started": "2022-08-14T13:16:53.871972Z"
    }
   },
   "outputs": [],
   "source": []
  },
  {
   "cell_type": "code",
   "execution_count": null,
   "metadata": {
    "execution": {
     "iopub.execute_input": "2022-08-14T13:17:04.033245Z",
     "iopub.status.busy": "2022-08-14T13:17:04.032833Z",
     "iopub.status.idle": "2022-08-14T13:17:04.282071Z",
     "shell.execute_reply": "2022-08-14T13:17:04.280696Z",
     "shell.execute_reply.started": "2022-08-14T13:17:04.033212Z"
    }
   },
   "outputs": [],
   "source": []
  },
  {
   "cell_type": "code",
   "execution_count": null,
   "metadata": {
    "execution": {
     "iopub.execute_input": "2022-08-14T13:17:08.582751Z",
     "iopub.status.busy": "2022-08-14T13:17:08.582252Z",
     "iopub.status.idle": "2022-08-14T13:17:08.780081Z",
     "shell.execute_reply": "2022-08-14T13:17:08.779011Z",
     "shell.execute_reply.started": "2022-08-14T13:17:08.582715Z"
    }
   },
   "outputs": [],
   "source": []
  },
  {
   "cell_type": "code",
   "execution_count": null,
   "metadata": {
    "execution": {
     "iopub.execute_input": "2022-08-14T12:33:18.026876Z",
     "iopub.status.busy": "2022-08-14T12:33:18.026316Z",
     "iopub.status.idle": "2022-08-14T12:33:18.045017Z",
     "shell.execute_reply": "2022-08-14T12:33:18.043694Z",
     "shell.execute_reply.started": "2022-08-14T12:33:18.026830Z"
    }
   },
   "outputs": [],
   "source": []
  },
  {
   "cell_type": "code",
   "execution_count": null,
   "metadata": {
    "execution": {
     "iopub.execute_input": "2022-08-14T13:17:13.842419Z",
     "iopub.status.busy": "2022-08-14T13:17:13.841579Z",
     "iopub.status.idle": "2022-08-14T13:17:14.050657Z",
     "shell.execute_reply": "2022-08-14T13:17:14.049470Z",
     "shell.execute_reply.started": "2022-08-14T13:17:13.842355Z"
    }
   },
   "outputs": [],
   "source": []
  },
  {
   "cell_type": "code",
   "execution_count": null,
   "metadata": {
    "execution": {
     "iopub.execute_input": "2022-08-14T13:22:10.658109Z",
     "iopub.status.busy": "2022-08-14T13:22:10.657328Z",
     "iopub.status.idle": "2022-08-14T13:22:11.287186Z",
     "shell.execute_reply": "2022-08-14T13:22:11.285637Z",
     "shell.execute_reply.started": "2022-08-14T13:22:10.658054Z"
    }
   },
   "outputs": [],
   "source": []
  },
  {
   "cell_type": "code",
   "execution_count": null,
   "metadata": {},
   "outputs": [],
   "source": []
  },
  {
   "cell_type": "code",
   "execution_count": null,
   "metadata": {},
   "outputs": [],
   "source": []
  },
  {
   "cell_type": "code",
   "execution_count": null,
   "metadata": {},
   "outputs": [],
   "source": []
  },
  {
   "cell_type": "code",
   "execution_count": null,
   "metadata": {},
   "outputs": [],
   "source": []
  },
  {
   "cell_type": "code",
   "execution_count": null,
   "metadata": {},
   "outputs": [],
   "source": []
  },
  {
   "cell_type": "code",
   "execution_count": null,
   "metadata": {},
   "outputs": [],
   "source": []
  },
  {
   "cell_type": "code",
   "execution_count": null,
   "metadata": {},
   "outputs": [],
   "source": []
  },
  {
   "cell_type": "code",
   "execution_count": null,
   "metadata": {
    "execution": {
     "iopub.execute_input": "2022-08-14T13:24:36.482694Z",
     "iopub.status.busy": "2022-08-14T13:24:36.481690Z",
     "iopub.status.idle": "2022-08-14T13:24:37.138949Z",
     "shell.execute_reply": "2022-08-14T13:24:37.138046Z",
     "shell.execute_reply.started": "2022-08-14T13:24:36.482648Z"
    }
   },
   "outputs": [],
   "source": [
    "#Correlation maxtrix\n",
    "cor = SpaceshipTitsnicDataFrame.corr()\n",
    "sns.set(font_scale=1.15)\n",
    "plt.figure(figsize=(14, 10))\n",
    "sns.heatmap(cor,\n",
    "            vmax=0.9,\n",
    "            linewidths=0.02,\n",
    "            square=True,\n",
    "            annot=True,\n",
    "            cmap='YlGnBu',\n",
    "            linecolor=\"black\")\n",
    "plt.title('Corelation Matrix')"
   ]
  },
  {
   "cell_type": "code",
   "execution_count": null,
   "metadata": {},
   "outputs": [],
   "source": []
  },
  {
   "cell_type": "code",
   "execution_count": null,
   "metadata": {},
   "outputs": [],
   "source": []
  },
  {
   "cell_type": "code",
   "execution_count": null,
   "metadata": {},
   "outputs": [],
   "source": []
  },
  {
   "cell_type": "markdown",
   "metadata": {},
   "source": []
  },
  {
   "cell_type": "code",
   "execution_count": null,
   "metadata": {
    "execution": {
     "iopub.execute_input": "2022-08-14T11:27:26.503223Z",
     "iopub.status.busy": "2022-08-14T11:27:26.502833Z",
     "iopub.status.idle": "2022-08-14T11:27:26.526028Z",
     "shell.execute_reply": "2022-08-14T11:27:26.524830Z",
     "shell.execute_reply.started": "2022-08-14T11:27:26.503194Z"
    }
   },
   "outputs": [],
   "source": [
    "SpaceshipTitsnicDataFrame.dropna(axis=0, subset=[\"Destination\", \"Age\"], inplace=True)\n",
    "Features = [\"PassengerId\", \"HomePlanet\", \"Cabin\", \"Destination\", \"Age\", \"VIP\", \"Name\"]\n",
    "X = SpaceshipTitsnicDataFrame[Features]\n",
    "y = SpaceshipTitsnicDataFrame[\"Destination\"]\n",
    "print(X)\n",
    "print(y)"
   ]
  },
  {
   "cell_type": "code",
   "execution_count": null,
   "metadata": {},
   "outputs": [],
   "source": []
  },
  {
   "cell_type": "code",
   "execution_count": null,
   "metadata": {
    "execution": {
     "iopub.execute_input": "2022-08-14T11:27:34.783257Z",
     "iopub.status.busy": "2022-08-14T11:27:34.782779Z",
     "iopub.status.idle": "2022-08-14T11:27:35.436204Z",
     "shell.execute_reply": "2022-08-14T11:27:35.435035Z",
     "shell.execute_reply.started": "2022-08-14T11:27:34.783220Z"
    }
   },
   "outputs": [],
   "source": [
    "from sklearn.model_selection import train_test_split\n",
    "train_X, val_X, train_y, val_y = train_test_split(X, y, random_state = 1)"
   ]
  },
  {
   "cell_type": "code",
   "execution_count": null,
   "metadata": {},
   "outputs": [],
   "source": []
  },
  {
   "cell_type": "code",
   "execution_count": null,
   "metadata": {
    "execution": {
     "iopub.execute_input": "2022-07-20T11:43:56.885430Z",
     "iopub.status.busy": "2022-07-20T11:43:56.884899Z",
     "iopub.status.idle": "2022-07-20T11:43:56.898883Z",
     "shell.execute_reply": "2022-07-20T11:43:56.897798Z",
     "shell.execute_reply.started": "2022-07-20T11:43:56.885386Z"
    }
   },
   "outputs": [],
   "source": [
    "#one_hot_encoded_train_X = pd.get_dummies(train_X)\n",
    "#one_hot_encoded_train_X.dropna()\n",
    "train_X.describe"
   ]
  },
  {
   "cell_type": "code",
   "execution_count": null,
   "metadata": {
    "execution": {
     "iopub.execute_input": "2022-07-19T09:16:43.950782Z",
     "iopub.status.busy": "2022-07-19T09:16:43.949669Z",
     "iopub.status.idle": "2022-07-19T09:16:43.958492Z",
     "shell.execute_reply": "2022-07-19T09:16:43.957783Z",
     "shell.execute_reply.started": "2022-07-19T09:16:43.950742Z"
    }
   },
   "outputs": [],
   "source": [
    "one_hot_encoded_train_X.dtypes"
   ]
  },
  {
   "cell_type": "code",
   "execution_count": null,
   "metadata": {
    "execution": {
     "iopub.execute_input": "2022-07-19T09:22:32.587529Z",
     "iopub.status.busy": "2022-07-19T09:22:32.587206Z",
     "iopub.status.idle": "2022-07-19T09:22:48.144938Z",
     "shell.execute_reply": "2022-07-19T09:22:48.143820Z",
     "shell.execute_reply.started": "2022-07-19T09:22:32.587499Z"
    }
   },
   "outputs": [],
   "source": [
    "#one_hot_encoded_train_X.describe()"
   ]
  },
  {
   "cell_type": "code",
   "execution_count": null,
   "metadata": {
    "execution": {
     "iopub.execute_input": "2022-07-19T09:22:01.826032Z",
     "iopub.status.busy": "2022-07-19T09:22:01.825637Z",
     "iopub.status.idle": "2022-07-19T09:22:02.021287Z",
     "shell.execute_reply": "2022-07-19T09:22:02.020173Z",
     "shell.execute_reply.started": "2022-07-19T09:22:01.826000Z"
    }
   },
   "outputs": [],
   "source": [
    "#one_hot_encoded_train_X.dropna(axis = 0,subset = [\"Age\"], inplace = True)"
   ]
  },
  {
   "cell_type": "code",
   "execution_count": null,
   "metadata": {
    "execution": {
     "iopub.execute_input": "2022-07-20T11:42:35.505259Z",
     "iopub.status.busy": "2022-07-20T11:42:35.504711Z",
     "iopub.status.idle": "2022-07-20T11:42:35.528599Z",
     "shell.execute_reply": "2022-07-20T11:42:35.527098Z",
     "shell.execute_reply.started": "2022-07-20T11:42:35.505209Z"
    }
   },
   "outputs": [],
   "source": [
    "train_X.describe()"
   ]
  },
  {
   "cell_type": "code",
   "execution_count": null,
   "metadata": {
    "execution": {
     "iopub.execute_input": "2022-07-20T11:56:16.723601Z",
     "iopub.status.busy": "2022-07-20T11:56:16.723101Z",
     "iopub.status.idle": "2022-07-20T11:56:16.760581Z",
     "shell.execute_reply": "2022-07-20T11:56:16.758999Z",
     "shell.execute_reply.started": "2022-07-20T11:56:16.723564Z"
    }
   },
   "outputs": [],
   "source": [
    "from sklearn.ensemble import RandomForestRegressor\n",
    "SpaceshipTitanicModel = RandomForestRegressor(random_state = 1)\n",
    "SpaceshipTitanicModel.fit(train_X, train_y)"
   ]
  },
  {
   "cell_type": "code",
   "execution_count": null,
   "metadata": {},
   "outputs": [],
   "source": []
  },
  {
   "cell_type": "code",
   "execution_count": null,
   "metadata": {},
   "outputs": [],
   "source": []
  }
 ],
 "metadata": {
  "kernelspec": {
   "display_name": "Python 3 (ipykernel)",
   "language": "python",
   "name": "python3"
  },
  "language_info": {
   "codemirror_mode": {
    "name": "ipython",
    "version": 3
   },
   "file_extension": ".py",
   "mimetype": "text/x-python",
   "name": "python",
   "nbconvert_exporter": "python",
   "pygments_lexer": "ipython3",
   "version": "3.9.7"
  }
 },
 "nbformat": 4,
 "nbformat_minor": 4
}
