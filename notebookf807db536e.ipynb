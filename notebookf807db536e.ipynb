{
 "cells": [
  {
   "cell_type": "code",
   "execution_count": 133,
   "metadata": {
    "_cell_guid": "b1076dfc-b9ad-4769-8c92-a6c4dae69d19",
    "_uuid": "8f2839f25d086af736a60e9eeb907d3b93b6e0e5",
    "execution": {
     "iopub.execute_input": "2022-08-14T13:15:51.014279Z",
     "iopub.status.busy": "2022-08-14T13:15:51.012896Z",
     "iopub.status.idle": "2022-08-14T13:15:51.028219Z",
     "shell.execute_reply": "2022-08-14T13:15:51.026792Z",
     "shell.execute_reply.started": "2022-08-14T13:15:51.014212Z"
    }
   },
   "outputs": [
    {
     "name": "stdout",
     "output_type": "stream",
     "text": [
      "/kaggle/input/spaceship-titanic/sample_submission.csv\n",
      "/kaggle/input/spaceship-titanic/train.csv\n",
      "/kaggle/input/spaceship-titanic/test.csv\n"
     ]
    }
   ],
   "source": [
    "# This Python 3 environment comes with many helpful analytics libraries installed\n",
    "# It is defined by the kaggle/python Docker image: https://github.com/kaggle/docker-python\n",
    "# For example, here's several helpful packages to load\n",
    "\n",
    "import numpy as np # linear algebra\n",
    "import pandas as pd # data processing, CSV file I/O (e.g. pd.read_csv)\n",
    "\n",
    "# Input data files are available in the read-only \"../input/\" directory\n",
    "# For example, running this (by clicking run or pressing Shift+Enter) will list all files under the input directory\n",
    "\n",
    "import os\n",
    "for dirname, _, filenames in os.walk('/kaggle/input'):\n",
    "    for filename in filenames:\n",
    "        print(os.path.join(dirname, filename))\n",
    "\n",
    "# You can write up to 20GB to the current directory (/kaggle/working/) that gets preserved as output when you create a version using \"Save & Run All\" \n",
    "# You can also write temporary files to /kaggle/temp/, but they won't be saved outside of the current session"
   ]
  },
  {
   "cell_type": "code",
   "execution_count": 134,
   "metadata": {
    "execution": {
     "iopub.execute_input": "2022-08-14T13:15:56.739000Z",
     "iopub.status.busy": "2022-08-14T13:15:56.737893Z",
     "iopub.status.idle": "2022-08-14T13:15:56.790443Z",
     "shell.execute_reply": "2022-08-14T13:15:56.789280Z",
     "shell.execute_reply.started": "2022-08-14T13:15:56.738960Z"
    }
   },
   "outputs": [
    {
     "data": {
      "text/html": [
       "<div>\n",
       "<style scoped>\n",
       "    .dataframe tbody tr th:only-of-type {\n",
       "        vertical-align: middle;\n",
       "    }\n",
       "\n",
       "    .dataframe tbody tr th {\n",
       "        vertical-align: top;\n",
       "    }\n",
       "\n",
       "    .dataframe thead th {\n",
       "        text-align: right;\n",
       "    }\n",
       "</style>\n",
       "<table border=\"1\" class=\"dataframe\">\n",
       "  <thead>\n",
       "    <tr style=\"text-align: right;\">\n",
       "      <th></th>\n",
       "      <th>PassengerId</th>\n",
       "      <th>HomePlanet</th>\n",
       "      <th>CryoSleep</th>\n",
       "      <th>Cabin</th>\n",
       "      <th>Destination</th>\n",
       "      <th>Age</th>\n",
       "      <th>VIP</th>\n",
       "      <th>RoomService</th>\n",
       "      <th>FoodCourt</th>\n",
       "      <th>ShoppingMall</th>\n",
       "      <th>Spa</th>\n",
       "      <th>VRDeck</th>\n",
       "      <th>Name</th>\n",
       "      <th>Transported</th>\n",
       "    </tr>\n",
       "  </thead>\n",
       "  <tbody>\n",
       "    <tr>\n",
       "      <th>8688</th>\n",
       "      <td>9276_01</td>\n",
       "      <td>Europa</td>\n",
       "      <td>False</td>\n",
       "      <td>A/98/P</td>\n",
       "      <td>55 Cancri e</td>\n",
       "      <td>41.0</td>\n",
       "      <td>True</td>\n",
       "      <td>0.0</td>\n",
       "      <td>6819.0</td>\n",
       "      <td>0.0</td>\n",
       "      <td>1643.0</td>\n",
       "      <td>74.0</td>\n",
       "      <td>Gravior Noxnuther</td>\n",
       "      <td>False</td>\n",
       "    </tr>\n",
       "    <tr>\n",
       "      <th>8689</th>\n",
       "      <td>9278_01</td>\n",
       "      <td>Earth</td>\n",
       "      <td>True</td>\n",
       "      <td>G/1499/S</td>\n",
       "      <td>PSO J318.5-22</td>\n",
       "      <td>18.0</td>\n",
       "      <td>False</td>\n",
       "      <td>0.0</td>\n",
       "      <td>0.0</td>\n",
       "      <td>0.0</td>\n",
       "      <td>0.0</td>\n",
       "      <td>0.0</td>\n",
       "      <td>Kurta Mondalley</td>\n",
       "      <td>False</td>\n",
       "    </tr>\n",
       "    <tr>\n",
       "      <th>8690</th>\n",
       "      <td>9279_01</td>\n",
       "      <td>Earth</td>\n",
       "      <td>False</td>\n",
       "      <td>G/1500/S</td>\n",
       "      <td>TRAPPIST-1e</td>\n",
       "      <td>26.0</td>\n",
       "      <td>False</td>\n",
       "      <td>0.0</td>\n",
       "      <td>0.0</td>\n",
       "      <td>1872.0</td>\n",
       "      <td>1.0</td>\n",
       "      <td>0.0</td>\n",
       "      <td>Fayey Connon</td>\n",
       "      <td>True</td>\n",
       "    </tr>\n",
       "    <tr>\n",
       "      <th>8691</th>\n",
       "      <td>9280_01</td>\n",
       "      <td>Europa</td>\n",
       "      <td>False</td>\n",
       "      <td>E/608/S</td>\n",
       "      <td>55 Cancri e</td>\n",
       "      <td>32.0</td>\n",
       "      <td>False</td>\n",
       "      <td>0.0</td>\n",
       "      <td>1049.0</td>\n",
       "      <td>0.0</td>\n",
       "      <td>353.0</td>\n",
       "      <td>3235.0</td>\n",
       "      <td>Celeon Hontichre</td>\n",
       "      <td>False</td>\n",
       "    </tr>\n",
       "    <tr>\n",
       "      <th>8692</th>\n",
       "      <td>9280_02</td>\n",
       "      <td>Europa</td>\n",
       "      <td>False</td>\n",
       "      <td>E/608/S</td>\n",
       "      <td>TRAPPIST-1e</td>\n",
       "      <td>44.0</td>\n",
       "      <td>False</td>\n",
       "      <td>126.0</td>\n",
       "      <td>4688.0</td>\n",
       "      <td>0.0</td>\n",
       "      <td>0.0</td>\n",
       "      <td>12.0</td>\n",
       "      <td>Propsh Hontichre</td>\n",
       "      <td>True</td>\n",
       "    </tr>\n",
       "  </tbody>\n",
       "</table>\n",
       "</div>"
      ],
      "text/plain": [
       "     PassengerId HomePlanet CryoSleep     Cabin    Destination   Age    VIP  \\\n",
       "8688     9276_01     Europa     False    A/98/P    55 Cancri e  41.0   True   \n",
       "8689     9278_01      Earth      True  G/1499/S  PSO J318.5-22  18.0  False   \n",
       "8690     9279_01      Earth     False  G/1500/S    TRAPPIST-1e  26.0  False   \n",
       "8691     9280_01     Europa     False   E/608/S    55 Cancri e  32.0  False   \n",
       "8692     9280_02     Europa     False   E/608/S    TRAPPIST-1e  44.0  False   \n",
       "\n",
       "      RoomService  FoodCourt  ShoppingMall     Spa  VRDeck               Name  \\\n",
       "8688          0.0     6819.0           0.0  1643.0    74.0  Gravior Noxnuther   \n",
       "8689          0.0        0.0           0.0     0.0     0.0    Kurta Mondalley   \n",
       "8690          0.0        0.0        1872.0     1.0     0.0       Fayey Connon   \n",
       "8691          0.0     1049.0           0.0   353.0  3235.0   Celeon Hontichre   \n",
       "8692        126.0     4688.0           0.0     0.0    12.0   Propsh Hontichre   \n",
       "\n",
       "      Transported  \n",
       "8688        False  \n",
       "8689        False  \n",
       "8690         True  \n",
       "8691        False  \n",
       "8692         True  "
      ]
     },
     "execution_count": 134,
     "metadata": {},
     "output_type": "execute_result"
    }
   ],
   "source": [
    "SpaceshipTitanicFilePath = \"../input/spaceship-titanic/train.csv\"\n",
    "SpaceshipTitsnicDataFrame = pd.read_csv(SpaceshipTitanicFilePath)\n",
    "SpaceshipTitsnicDataFrame.tail()"
   ]
  },
  {
   "cell_type": "code",
   "execution_count": 135,
   "metadata": {
    "execution": {
     "iopub.execute_input": "2022-08-14T13:16:00.421684Z",
     "iopub.status.busy": "2022-08-14T13:16:00.421259Z",
     "iopub.status.idle": "2022-08-14T13:16:00.444263Z",
     "shell.execute_reply": "2022-08-14T13:16:00.442677Z",
     "shell.execute_reply.started": "2022-08-14T13:16:00.421648Z"
    }
   },
   "outputs": [
    {
     "name": "stdout",
     "output_type": "stream",
     "text": [
      "<class 'pandas.core.frame.DataFrame'>\n",
      "RangeIndex: 8693 entries, 0 to 8692\n",
      "Data columns (total 14 columns):\n",
      " #   Column        Non-Null Count  Dtype  \n",
      "---  ------        --------------  -----  \n",
      " 0   PassengerId   8693 non-null   object \n",
      " 1   HomePlanet    8492 non-null   object \n",
      " 2   CryoSleep     8476 non-null   object \n",
      " 3   Cabin         8494 non-null   object \n",
      " 4   Destination   8511 non-null   object \n",
      " 5   Age           8514 non-null   float64\n",
      " 6   VIP           8490 non-null   object \n",
      " 7   RoomService   8512 non-null   float64\n",
      " 8   FoodCourt     8510 non-null   float64\n",
      " 9   ShoppingMall  8485 non-null   float64\n",
      " 10  Spa           8510 non-null   float64\n",
      " 11  VRDeck        8505 non-null   float64\n",
      " 12  Name          8493 non-null   object \n",
      " 13  Transported   8693 non-null   bool   \n",
      "dtypes: bool(1), float64(6), object(7)\n",
      "memory usage: 891.5+ KB\n"
     ]
    }
   ],
   "source": [
    "SpaceshipTitsnicDataFrame.info()"
   ]
  },
  {
   "cell_type": "code",
   "execution_count": 136,
   "metadata": {
    "execution": {
     "iopub.execute_input": "2022-08-14T13:16:04.811739Z",
     "iopub.status.busy": "2022-08-14T13:16:04.811230Z",
     "iopub.status.idle": "2022-08-14T13:16:04.829366Z",
     "shell.execute_reply": "2022-08-14T13:16:04.828365Z",
     "shell.execute_reply.started": "2022-08-14T13:16:04.811692Z"
    }
   },
   "outputs": [
    {
     "data": {
      "text/plain": [
       "PassengerId       0\n",
       "HomePlanet      201\n",
       "CryoSleep       217\n",
       "Cabin           199\n",
       "Destination     182\n",
       "Age             179\n",
       "VIP             203\n",
       "RoomService     181\n",
       "FoodCourt       183\n",
       "ShoppingMall    208\n",
       "Spa             183\n",
       "VRDeck          188\n",
       "Name            200\n",
       "Transported       0\n",
       "dtype: int64"
      ]
     },
     "execution_count": 136,
     "metadata": {},
     "output_type": "execute_result"
    }
   ],
   "source": [
    "SpaceshipTitsnicDataFrame.isnull().sum()"
   ]
  },
  {
   "cell_type": "code",
   "execution_count": 137,
   "metadata": {
    "execution": {
     "iopub.execute_input": "2022-08-14T13:16:08.122113Z",
     "iopub.status.busy": "2022-08-14T13:16:08.121679Z",
     "iopub.status.idle": "2022-08-14T13:16:08.131635Z",
     "shell.execute_reply": "2022-08-14T13:16:08.130667Z",
     "shell.execute_reply.started": "2022-08-14T13:16:08.122078Z"
    }
   },
   "outputs": [
    {
     "data": {
      "text/plain": [
       "array(['Europa', 'Earth', 'Mars', nan], dtype=object)"
      ]
     },
     "execution_count": 137,
     "metadata": {},
     "output_type": "execute_result"
    }
   ],
   "source": [
    "SpaceshipTitsnicDataFrame[\"HomePlanet\"].unique()"
   ]
  },
  {
   "cell_type": "code",
   "execution_count": null,
   "metadata": {
    "execution": {
     "iopub.execute_input": "2022-08-14T11:47:52.947285Z",
     "iopub.status.busy": "2022-08-14T11:47:52.946885Z",
     "iopub.status.idle": "2022-08-14T11:47:52.959872Z",
     "shell.execute_reply": "2022-08-14T11:47:52.958383Z",
     "shell.execute_reply.started": "2022-08-14T11:47:52.947253Z"
    }
   },
   "outputs": [],
   "source": [
    "SpaceshipTitsnicDataFrame[\"Transported\"].unique()"
   ]
  },
  {
   "cell_type": "code",
   "execution_count": null,
   "metadata": {
    "execution": {
     "iopub.execute_input": "2022-08-14T11:48:05.232436Z",
     "iopub.status.busy": "2022-08-14T11:48:05.232013Z",
     "iopub.status.idle": "2022-08-14T11:48:05.241500Z",
     "shell.execute_reply": "2022-08-14T11:48:05.240292Z",
     "shell.execute_reply.started": "2022-08-14T11:48:05.232405Z"
    }
   },
   "outputs": [],
   "source": [
    "SpaceshipTitsnicDataFrame[\"Destination\"].unique()"
   ]
  },
  {
   "cell_type": "code",
   "execution_count": null,
   "metadata": {
    "execution": {
     "iopub.execute_input": "2022-08-14T11:48:13.704374Z",
     "iopub.status.busy": "2022-08-14T11:48:13.702987Z",
     "iopub.status.idle": "2022-08-14T11:48:13.717480Z",
     "shell.execute_reply": "2022-08-14T11:48:13.715652Z",
     "shell.execute_reply.started": "2022-08-14T11:48:13.704329Z"
    }
   },
   "outputs": [],
   "source": [
    "SpaceshipTitsnicDataFrame[\"VIP\"].unique()"
   ]
  },
  {
   "cell_type": "code",
   "execution_count": 138,
   "metadata": {
    "execution": {
     "iopub.execute_input": "2022-08-14T13:16:13.332587Z",
     "iopub.status.busy": "2022-08-14T13:16:13.332151Z",
     "iopub.status.idle": "2022-08-14T13:16:13.377774Z",
     "shell.execute_reply": "2022-08-14T13:16:13.376132Z",
     "shell.execute_reply.started": "2022-08-14T13:16:13.332553Z"
    }
   },
   "outputs": [
    {
     "data": {
      "text/html": [
       "<div>\n",
       "<style scoped>\n",
       "    .dataframe tbody tr th:only-of-type {\n",
       "        vertical-align: middle;\n",
       "    }\n",
       "\n",
       "    .dataframe tbody tr th {\n",
       "        vertical-align: top;\n",
       "    }\n",
       "\n",
       "    .dataframe thead th {\n",
       "        text-align: right;\n",
       "    }\n",
       "</style>\n",
       "<table border=\"1\" class=\"dataframe\">\n",
       "  <thead>\n",
       "    <tr style=\"text-align: right;\">\n",
       "      <th></th>\n",
       "      <th>count</th>\n",
       "      <th>mean</th>\n",
       "      <th>std</th>\n",
       "      <th>min</th>\n",
       "      <th>25%</th>\n",
       "      <th>50%</th>\n",
       "      <th>75%</th>\n",
       "      <th>max</th>\n",
       "    </tr>\n",
       "  </thead>\n",
       "  <tbody>\n",
       "    <tr>\n",
       "      <th>Age</th>\n",
       "      <td>8514.0</td>\n",
       "      <td>28.827930</td>\n",
       "      <td>14.489021</td>\n",
       "      <td>0.0</td>\n",
       "      <td>19.0</td>\n",
       "      <td>27.0</td>\n",
       "      <td>38.0</td>\n",
       "      <td>79.0</td>\n",
       "    </tr>\n",
       "    <tr>\n",
       "      <th>RoomService</th>\n",
       "      <td>8512.0</td>\n",
       "      <td>224.687617</td>\n",
       "      <td>666.717663</td>\n",
       "      <td>0.0</td>\n",
       "      <td>0.0</td>\n",
       "      <td>0.0</td>\n",
       "      <td>47.0</td>\n",
       "      <td>14327.0</td>\n",
       "    </tr>\n",
       "    <tr>\n",
       "      <th>FoodCourt</th>\n",
       "      <td>8510.0</td>\n",
       "      <td>458.077203</td>\n",
       "      <td>1611.489240</td>\n",
       "      <td>0.0</td>\n",
       "      <td>0.0</td>\n",
       "      <td>0.0</td>\n",
       "      <td>76.0</td>\n",
       "      <td>29813.0</td>\n",
       "    </tr>\n",
       "    <tr>\n",
       "      <th>ShoppingMall</th>\n",
       "      <td>8485.0</td>\n",
       "      <td>173.729169</td>\n",
       "      <td>604.696458</td>\n",
       "      <td>0.0</td>\n",
       "      <td>0.0</td>\n",
       "      <td>0.0</td>\n",
       "      <td>27.0</td>\n",
       "      <td>23492.0</td>\n",
       "    </tr>\n",
       "    <tr>\n",
       "      <th>Spa</th>\n",
       "      <td>8510.0</td>\n",
       "      <td>311.138778</td>\n",
       "      <td>1136.705535</td>\n",
       "      <td>0.0</td>\n",
       "      <td>0.0</td>\n",
       "      <td>0.0</td>\n",
       "      <td>59.0</td>\n",
       "      <td>22408.0</td>\n",
       "    </tr>\n",
       "    <tr>\n",
       "      <th>VRDeck</th>\n",
       "      <td>8505.0</td>\n",
       "      <td>304.854791</td>\n",
       "      <td>1145.717189</td>\n",
       "      <td>0.0</td>\n",
       "      <td>0.0</td>\n",
       "      <td>0.0</td>\n",
       "      <td>46.0</td>\n",
       "      <td>24133.0</td>\n",
       "    </tr>\n",
       "  </tbody>\n",
       "</table>\n",
       "</div>"
      ],
      "text/plain": [
       "               count        mean          std  min   25%   50%   75%      max\n",
       "Age           8514.0   28.827930    14.489021  0.0  19.0  27.0  38.0     79.0\n",
       "RoomService   8512.0  224.687617   666.717663  0.0   0.0   0.0  47.0  14327.0\n",
       "FoodCourt     8510.0  458.077203  1611.489240  0.0   0.0   0.0  76.0  29813.0\n",
       "ShoppingMall  8485.0  173.729169   604.696458  0.0   0.0   0.0  27.0  23492.0\n",
       "Spa           8510.0  311.138778  1136.705535  0.0   0.0   0.0  59.0  22408.0\n",
       "VRDeck        8505.0  304.854791  1145.717189  0.0   0.0   0.0  46.0  24133.0"
      ]
     },
     "execution_count": 138,
     "metadata": {},
     "output_type": "execute_result"
    }
   ],
   "source": [
    "SpaceshipTitsnicDataFrame.describe().transpose()"
   ]
  },
  {
   "cell_type": "code",
   "execution_count": 139,
   "metadata": {
    "execution": {
     "iopub.execute_input": "2022-08-14T13:16:16.787283Z",
     "iopub.status.busy": "2022-08-14T13:16:16.786844Z",
     "iopub.status.idle": "2022-08-14T13:16:16.936293Z",
     "shell.execute_reply": "2022-08-14T13:16:16.934530Z",
     "shell.execute_reply.started": "2022-08-14T13:16:16.787246Z"
    }
   },
   "outputs": [
    {
     "data": {
      "text/plain": [
       "<AxesSubplot:xlabel='HomePlanet', ylabel='Count'>"
      ]
     },
     "execution_count": 139,
     "metadata": {},
     "output_type": "execute_result"
    },
    {
     "data": {
      "image/png": "[encoded data removed]",
      "text/plain": [
       "<Figure size 432x288 with 1 Axes>"
      ]
     },
     "metadata": {
      "needs_background": "light"
     },
     "output_type": "display_data"
    }
   ],
   "source": [
    "import matplotlib.pyplot as plt\n",
    "import seaborn as sns\n",
    "\n",
    "sns.histplot(SpaceshipTitsnicDataFrame.HomePlanet, color='Green')"
   ]
  },
  {
   "cell_type": "code",
   "execution_count": 140,
   "metadata": {
    "execution": {
     "iopub.execute_input": "2022-08-14T13:16:21.241982Z",
     "iopub.status.busy": "2022-08-14T13:16:21.241568Z",
     "iopub.status.idle": "2022-08-14T13:16:21.466146Z",
     "shell.execute_reply": "2022-08-14T13:16:21.465048Z",
     "shell.execute_reply.started": "2022-08-14T13:16:21.241951Z"
    }
   },
   "outputs": [
    {
     "data": {
      "text/plain": [
       "<AxesSubplot:xlabel='Destination', ylabel='Count'>"
      ]
     },
     "execution_count": 140,
     "metadata": {},
     "output_type": "execute_result"
    },
    {
     "data": {
      "image/png": "[encoded data removed]",
      "text/plain": [
       "<Figure size 432x288 with 1 Axes>"
      ]
     },
     "metadata": {
      "needs_background": "light"
     },
     "output_type": "display_data"
    }
   ],
   "source": [
    "sns.histplot(SpaceshipTitsnicDataFrame.Destination, color='Green')"
   ]
  },
  {
   "cell_type": "code",
   "execution_count": null,
   "metadata": {
    "execution": {
     "iopub.execute_input": "2022-08-14T11:56:16.872731Z",
     "iopub.status.busy": "2022-08-14T11:56:16.872316Z",
     "iopub.status.idle": "2022-08-14T11:56:17.198847Z",
     "shell.execute_reply": "2022-08-14T11:56:17.197488Z",
     "shell.execute_reply.started": "2022-08-14T11:56:16.872697Z"
    }
   },
   "outputs": [],
   "source": [
    "sns.histplot(SpaceshipTitsnicDataFrame.Age, color='Green', kde=True)"
   ]
  },
  {
   "cell_type": "markdown",
   "metadata": {},
   "source": [
    "Age grouping"
   ]
  },
  {
   "cell_type": "code",
   "execution_count": 158,
   "metadata": {
    "execution": {
     "iopub.execute_input": "2022-08-14T13:28:10.802329Z",
     "iopub.status.busy": "2022-08-14T13:28:10.801885Z",
     "iopub.status.idle": "2022-08-14T13:28:11.051318Z",
     "shell.execute_reply": "2022-08-14T13:28:11.049907Z",
     "shell.execute_reply.started": "2022-08-14T13:28:10.802295Z"
    }
   },
   "outputs": [
    {
     "data": {
      "text/plain": [
       "0       2\n",
       "1       2\n",
       "2       3\n",
       "3       2\n",
       "4       1\n",
       "       ..\n",
       "8688    3\n",
       "8689    1\n",
       "8690    2\n",
       "8691    2\n",
       "8692    3\n",
       "Name: ageList, Length: 8693, dtype: int64"
      ]
     },
     "execution_count": 158,
     "metadata": {},
     "output_type": "execute_result"
    }
   ],
   "source": [
    "ageList = []\n",
    "for x in range(len(SpaceshipTitsnicDataFrame[\"Age\"])):\n",
    "    if (SpaceshipTitsnicDataFrame[\"Age\"][x] >= 0) & (SpaceshipTitsnicDataFrame[\"Age\"][x] <= 20):\n",
    "        ageList.append(1)\n",
    "    elif(SpaceshipTitsnicDataFrame[\"Age\"][x] > 20) & (SpaceshipTitsnicDataFrame[\"Age\"][x] <= 40):\n",
    "        ageList.append(2)\n",
    "    elif(SpaceshipTitsnicDataFrame[\"Age\"][x] > 40) & (SpaceshipTitsnicDataFrame[\"Age\"][x] <= 60):\n",
    "        ageList.append(3)\n",
    "    else:\n",
    "        ageList.append(4)\n",
    "\n",
    "        \n",
    "SpaceshipTitsnicDataFrame[\"ageList\"] = ageList\n",
    "SpaceshipTitsnicDataFrame[\"ageList\"]"
   ]
  },
  {
   "cell_type": "code",
   "execution_count": 141,
   "metadata": {
    "execution": {
     "iopub.execute_input": "2022-08-14T13:16:25.541123Z",
     "iopub.status.busy": "2022-08-14T13:16:25.540713Z",
     "iopub.status.idle": "2022-08-14T13:16:25.547913Z",
     "shell.execute_reply": "2022-08-14T13:16:25.546736Z",
     "shell.execute_reply.started": "2022-08-14T13:16:25.541090Z"
    }
   },
   "outputs": [],
   "source": [
    "SpaceshipTitsnicDataFrame[\"Transported\"] = SpaceshipTitsnicDataFrame[\"Transported\"].astype(\"int\")"
   ]
  },
  {
   "cell_type": "code",
   "execution_count": null,
   "metadata": {
    "execution": {
     "iopub.execute_input": "2022-08-14T12:02:00.043295Z",
     "iopub.status.busy": "2022-08-14T12:02:00.042212Z",
     "iopub.status.idle": "2022-08-14T12:02:00.214924Z",
     "shell.execute_reply": "2022-08-14T12:02:00.213753Z",
     "shell.execute_reply.started": "2022-08-14T12:02:00.043228Z"
    }
   },
   "outputs": [],
   "source": [
    "sns.countplot(SpaceshipTitsnicDataFrame.Transported, color='Green')"
   ]
  },
  {
   "cell_type": "code",
   "execution_count": 142,
   "metadata": {
    "execution": {
     "iopub.execute_input": "2022-08-14T13:16:32.583859Z",
     "iopub.status.busy": "2022-08-14T13:16:32.582795Z",
     "iopub.status.idle": "2022-08-14T13:16:32.615266Z",
     "shell.execute_reply": "2022-08-14T13:16:32.614214Z",
     "shell.execute_reply.started": "2022-08-14T13:16:32.583812Z"
    }
   },
   "outputs": [
    {
     "data": {
      "text/plain": [
       "0       0001\n",
       "1       0002\n",
       "2       0003\n",
       "3       0003\n",
       "4       0004\n",
       "        ... \n",
       "8688    9276\n",
       "8689    9278\n",
       "8690    9279\n",
       "8691    9280\n",
       "8692    9280\n",
       "Name: passGrp, Length: 8693, dtype: object"
      ]
     },
     "execution_count": 142,
     "metadata": {},
     "output_type": "execute_result"
    }
   ],
   "source": [
    "SpaceshipTitsnicDataFrame[\"passGrp\"] = SpaceshipTitsnicDataFrame.PassengerId.str.split(\"_\", expand = True)[0]\n",
    "SpaceshipTitsnicDataFrame[\"passGrp\"]"
   ]
  },
  {
   "cell_type": "code",
   "execution_count": 143,
   "metadata": {
    "execution": {
     "iopub.execute_input": "2022-08-14T13:16:35.523045Z",
     "iopub.status.busy": "2022-08-14T13:16:35.521679Z",
     "iopub.status.idle": "2022-08-14T13:16:35.585554Z",
     "shell.execute_reply": "2022-08-14T13:16:35.584158Z",
     "shell.execute_reply.started": "2022-08-14T13:16:35.522998Z"
    }
   },
   "outputs": [],
   "source": [
    "SpaceshipTitsnicDataFrame[\"CabinDeck\"] = SpaceshipTitsnicDataFrame.Cabin.str.split(\"/\", expand = True)[0]\n",
    "SpaceshipTitsnicDataFrame[\"CabinNum\"] = SpaceshipTitsnicDataFrame.Cabin.str.split(\"/\", expand = True)[1]\n",
    "SpaceshipTitsnicDataFrame[\"CabinSide\"] = SpaceshipTitsnicDataFrame.Cabin.str.split(\"/\", expand = True)[2]"
   ]
  },
  {
   "cell_type": "code",
   "execution_count": 144,
   "metadata": {
    "execution": {
     "iopub.execute_input": "2022-08-14T13:16:39.561950Z",
     "iopub.status.busy": "2022-08-14T13:16:39.560909Z",
     "iopub.status.idle": "2022-08-14T13:16:39.571924Z",
     "shell.execute_reply": "2022-08-14T13:16:39.570651Z",
     "shell.execute_reply.started": "2022-08-14T13:16:39.561894Z"
    }
   },
   "outputs": [
    {
     "data": {
      "text/plain": [
       "0       B\n",
       "1       F\n",
       "2       A\n",
       "3       A\n",
       "4       F\n",
       "       ..\n",
       "8688    A\n",
       "8689    G\n",
       "8690    G\n",
       "8691    E\n",
       "8692    E\n",
       "Name: CabinDeck, Length: 8693, dtype: object"
      ]
     },
     "execution_count": 144,
     "metadata": {},
     "output_type": "execute_result"
    }
   ],
   "source": [
    "SpaceshipTitsnicDataFrame[\"CabinDeck\"]"
   ]
  },
  {
   "cell_type": "code",
   "execution_count": 145,
   "metadata": {
    "execution": {
     "iopub.execute_input": "2022-08-14T13:16:42.901670Z",
     "iopub.status.busy": "2022-08-14T13:16:42.901234Z",
     "iopub.status.idle": "2022-08-14T13:16:42.910722Z",
     "shell.execute_reply": "2022-08-14T13:16:42.909665Z",
     "shell.execute_reply.started": "2022-08-14T13:16:42.901620Z"
    }
   },
   "outputs": [
    {
     "data": {
      "text/plain": [
       "0          0\n",
       "1          0\n",
       "2          0\n",
       "3          0\n",
       "4          1\n",
       "        ... \n",
       "8688      98\n",
       "8689    1499\n",
       "8690    1500\n",
       "8691     608\n",
       "8692     608\n",
       "Name: CabinNum, Length: 8693, dtype: object"
      ]
     },
     "execution_count": 145,
     "metadata": {},
     "output_type": "execute_result"
    }
   ],
   "source": [
    "SpaceshipTitsnicDataFrame[\"CabinNum\"]"
   ]
  },
  {
   "cell_type": "code",
   "execution_count": 146,
   "metadata": {
    "execution": {
     "iopub.execute_input": "2022-08-14T13:16:45.672230Z",
     "iopub.status.busy": "2022-08-14T13:16:45.671287Z",
     "iopub.status.idle": "2022-08-14T13:16:45.683872Z",
     "shell.execute_reply": "2022-08-14T13:16:45.682521Z",
     "shell.execute_reply.started": "2022-08-14T13:16:45.672175Z"
    }
   },
   "outputs": [
    {
     "data": {
      "text/plain": [
       "0       P\n",
       "1       S\n",
       "2       S\n",
       "3       S\n",
       "4       S\n",
       "       ..\n",
       "8688    P\n",
       "8689    S\n",
       "8690    S\n",
       "8691    S\n",
       "8692    S\n",
       "Name: CabinSide, Length: 8693, dtype: object"
      ]
     },
     "execution_count": 146,
     "metadata": {},
     "output_type": "execute_result"
    }
   ],
   "source": [
    "SpaceshipTitsnicDataFrame[\"CabinSide\"] "
   ]
  },
  {
   "cell_type": "code",
   "execution_count": 147,
   "metadata": {
    "execution": {
     "iopub.execute_input": "2022-08-14T13:16:50.272331Z",
     "iopub.status.busy": "2022-08-14T13:16:50.271455Z",
     "iopub.status.idle": "2022-08-14T13:16:50.280371Z",
     "shell.execute_reply": "2022-08-14T13:16:50.278928Z",
     "shell.execute_reply.started": "2022-08-14T13:16:50.272285Z"
    }
   },
   "outputs": [
    {
     "data": {
      "text/plain": [
       "Index(['PassengerId', 'HomePlanet', 'CryoSleep', 'Cabin', 'Destination', 'Age',\n",
       "       'VIP', 'RoomService', 'FoodCourt', 'ShoppingMall', 'Spa', 'VRDeck',\n",
       "       'Name', 'Transported', 'passGrp', 'CabinDeck', 'CabinNum', 'CabinSide'],\n",
       "      dtype='object')"
      ]
     },
     "execution_count": 147,
     "metadata": {},
     "output_type": "execute_result"
    }
   ],
   "source": [
    "SpaceshipTitsnicDataFrame.columns"
   ]
  },
  {
   "cell_type": "code",
   "execution_count": 148,
   "metadata": {
    "execution": {
     "iopub.execute_input": "2022-08-14T13:16:53.872009Z",
     "iopub.status.busy": "2022-08-14T13:16:53.871308Z",
     "iopub.status.idle": "2022-08-14T13:16:53.910853Z",
     "shell.execute_reply": "2022-08-14T13:16:53.909723Z",
     "shell.execute_reply.started": "2022-08-14T13:16:53.871972Z"
    }
   },
   "outputs": [
    {
     "data": {
      "text/html": [
       "<div>\n",
       "<style scoped>\n",
       "    .dataframe tbody tr th:only-of-type {\n",
       "        vertical-align: middle;\n",
       "    }\n",
       "\n",
       "    .dataframe tbody tr th {\n",
       "        vertical-align: top;\n",
       "    }\n",
       "\n",
       "    .dataframe thead th {\n",
       "        text-align: right;\n",
       "    }\n",
       "</style>\n",
       "<table border=\"1\" class=\"dataframe\">\n",
       "  <thead>\n",
       "    <tr style=\"text-align: right;\">\n",
       "      <th></th>\n",
       "      <th>HomePlanet</th>\n",
       "      <th>CryoSleep</th>\n",
       "      <th>Destination</th>\n",
       "      <th>Age</th>\n",
       "      <th>VIP</th>\n",
       "      <th>RoomService</th>\n",
       "      <th>FoodCourt</th>\n",
       "      <th>ShoppingMall</th>\n",
       "      <th>Spa</th>\n",
       "      <th>VRDeck</th>\n",
       "      <th>Name</th>\n",
       "      <th>Transported</th>\n",
       "      <th>passGrp</th>\n",
       "      <th>CabinDeck</th>\n",
       "      <th>CabinNum</th>\n",
       "      <th>CabinSide</th>\n",
       "    </tr>\n",
       "  </thead>\n",
       "  <tbody>\n",
       "    <tr>\n",
       "      <th>0</th>\n",
       "      <td>Europa</td>\n",
       "      <td>False</td>\n",
       "      <td>TRAPPIST-1e</td>\n",
       "      <td>39.0</td>\n",
       "      <td>False</td>\n",
       "      <td>0.0</td>\n",
       "      <td>0.0</td>\n",
       "      <td>0.0</td>\n",
       "      <td>0.0</td>\n",
       "      <td>0.0</td>\n",
       "      <td>Maham Ofracculy</td>\n",
       "      <td>0</td>\n",
       "      <td>0001</td>\n",
       "      <td>B</td>\n",
       "      <td>0</td>\n",
       "      <td>P</td>\n",
       "    </tr>\n",
       "    <tr>\n",
       "      <th>1</th>\n",
       "      <td>Earth</td>\n",
       "      <td>False</td>\n",
       "      <td>TRAPPIST-1e</td>\n",
       "      <td>24.0</td>\n",
       "      <td>False</td>\n",
       "      <td>109.0</td>\n",
       "      <td>9.0</td>\n",
       "      <td>25.0</td>\n",
       "      <td>549.0</td>\n",
       "      <td>44.0</td>\n",
       "      <td>Juanna Vines</td>\n",
       "      <td>1</td>\n",
       "      <td>0002</td>\n",
       "      <td>F</td>\n",
       "      <td>0</td>\n",
       "      <td>S</td>\n",
       "    </tr>\n",
       "    <tr>\n",
       "      <th>2</th>\n",
       "      <td>Europa</td>\n",
       "      <td>False</td>\n",
       "      <td>TRAPPIST-1e</td>\n",
       "      <td>58.0</td>\n",
       "      <td>True</td>\n",
       "      <td>43.0</td>\n",
       "      <td>3576.0</td>\n",
       "      <td>0.0</td>\n",
       "      <td>6715.0</td>\n",
       "      <td>49.0</td>\n",
       "      <td>Altark Susent</td>\n",
       "      <td>0</td>\n",
       "      <td>0003</td>\n",
       "      <td>A</td>\n",
       "      <td>0</td>\n",
       "      <td>S</td>\n",
       "    </tr>\n",
       "    <tr>\n",
       "      <th>3</th>\n",
       "      <td>Europa</td>\n",
       "      <td>False</td>\n",
       "      <td>TRAPPIST-1e</td>\n",
       "      <td>33.0</td>\n",
       "      <td>False</td>\n",
       "      <td>0.0</td>\n",
       "      <td>1283.0</td>\n",
       "      <td>371.0</td>\n",
       "      <td>3329.0</td>\n",
       "      <td>193.0</td>\n",
       "      <td>Solam Susent</td>\n",
       "      <td>0</td>\n",
       "      <td>0003</td>\n",
       "      <td>A</td>\n",
       "      <td>0</td>\n",
       "      <td>S</td>\n",
       "    </tr>\n",
       "    <tr>\n",
       "      <th>4</th>\n",
       "      <td>Earth</td>\n",
       "      <td>False</td>\n",
       "      <td>TRAPPIST-1e</td>\n",
       "      <td>16.0</td>\n",
       "      <td>False</td>\n",
       "      <td>303.0</td>\n",
       "      <td>70.0</td>\n",
       "      <td>151.0</td>\n",
       "      <td>565.0</td>\n",
       "      <td>2.0</td>\n",
       "      <td>Willy Santantines</td>\n",
       "      <td>1</td>\n",
       "      <td>0004</td>\n",
       "      <td>F</td>\n",
       "      <td>1</td>\n",
       "      <td>S</td>\n",
       "    </tr>\n",
       "    <tr>\n",
       "      <th>...</th>\n",
       "      <td>...</td>\n",
       "      <td>...</td>\n",
       "      <td>...</td>\n",
       "      <td>...</td>\n",
       "      <td>...</td>\n",
       "      <td>...</td>\n",
       "      <td>...</td>\n",
       "      <td>...</td>\n",
       "      <td>...</td>\n",
       "      <td>...</td>\n",
       "      <td>...</td>\n",
       "      <td>...</td>\n",
       "      <td>...</td>\n",
       "      <td>...</td>\n",
       "      <td>...</td>\n",
       "      <td>...</td>\n",
       "    </tr>\n",
       "    <tr>\n",
       "      <th>8688</th>\n",
       "      <td>Europa</td>\n",
       "      <td>False</td>\n",
       "      <td>55 Cancri e</td>\n",
       "      <td>41.0</td>\n",
       "      <td>True</td>\n",
       "      <td>0.0</td>\n",
       "      <td>6819.0</td>\n",
       "      <td>0.0</td>\n",
       "      <td>1643.0</td>\n",
       "      <td>74.0</td>\n",
       "      <td>Gravior Noxnuther</td>\n",
       "      <td>0</td>\n",
       "      <td>9276</td>\n",
       "      <td>A</td>\n",
       "      <td>98</td>\n",
       "      <td>P</td>\n",
       "    </tr>\n",
       "    <tr>\n",
       "      <th>8689</th>\n",
       "      <td>Earth</td>\n",
       "      <td>True</td>\n",
       "      <td>PSO J318.5-22</td>\n",
       "      <td>18.0</td>\n",
       "      <td>False</td>\n",
       "      <td>0.0</td>\n",
       "      <td>0.0</td>\n",
       "      <td>0.0</td>\n",
       "      <td>0.0</td>\n",
       "      <td>0.0</td>\n",
       "      <td>Kurta Mondalley</td>\n",
       "      <td>0</td>\n",
       "      <td>9278</td>\n",
       "      <td>G</td>\n",
       "      <td>1499</td>\n",
       "      <td>S</td>\n",
       "    </tr>\n",
       "    <tr>\n",
       "      <th>8690</th>\n",
       "      <td>Earth</td>\n",
       "      <td>False</td>\n",
       "      <td>TRAPPIST-1e</td>\n",
       "      <td>26.0</td>\n",
       "      <td>False</td>\n",
       "      <td>0.0</td>\n",
       "      <td>0.0</td>\n",
       "      <td>1872.0</td>\n",
       "      <td>1.0</td>\n",
       "      <td>0.0</td>\n",
       "      <td>Fayey Connon</td>\n",
       "      <td>1</td>\n",
       "      <td>9279</td>\n",
       "      <td>G</td>\n",
       "      <td>1500</td>\n",
       "      <td>S</td>\n",
       "    </tr>\n",
       "    <tr>\n",
       "      <th>8691</th>\n",
       "      <td>Europa</td>\n",
       "      <td>False</td>\n",
       "      <td>55 Cancri e</td>\n",
       "      <td>32.0</td>\n",
       "      <td>False</td>\n",
       "      <td>0.0</td>\n",
       "      <td>1049.0</td>\n",
       "      <td>0.0</td>\n",
       "      <td>353.0</td>\n",
       "      <td>3235.0</td>\n",
       "      <td>Celeon Hontichre</td>\n",
       "      <td>0</td>\n",
       "      <td>9280</td>\n",
       "      <td>E</td>\n",
       "      <td>608</td>\n",
       "      <td>S</td>\n",
       "    </tr>\n",
       "    <tr>\n",
       "      <th>8692</th>\n",
       "      <td>Europa</td>\n",
       "      <td>False</td>\n",
       "      <td>TRAPPIST-1e</td>\n",
       "      <td>44.0</td>\n",
       "      <td>False</td>\n",
       "      <td>126.0</td>\n",
       "      <td>4688.0</td>\n",
       "      <td>0.0</td>\n",
       "      <td>0.0</td>\n",
       "      <td>12.0</td>\n",
       "      <td>Propsh Hontichre</td>\n",
       "      <td>1</td>\n",
       "      <td>9280</td>\n",
       "      <td>E</td>\n",
       "      <td>608</td>\n",
       "      <td>S</td>\n",
       "    </tr>\n",
       "  </tbody>\n",
       "</table>\n",
       "<p>8693 rows × 16 columns</p>\n",
       "</div>"
      ],
      "text/plain": [
       "     HomePlanet CryoSleep    Destination   Age    VIP  RoomService  FoodCourt  \\\n",
       "0        Europa     False    TRAPPIST-1e  39.0  False          0.0        0.0   \n",
       "1         Earth     False    TRAPPIST-1e  24.0  False        109.0        9.0   \n",
       "2        Europa     False    TRAPPIST-1e  58.0   True         43.0     3576.0   \n",
       "3        Europa     False    TRAPPIST-1e  33.0  False          0.0     1283.0   \n",
       "4         Earth     False    TRAPPIST-1e  16.0  False        303.0       70.0   \n",
       "...         ...       ...            ...   ...    ...          ...        ...   \n",
       "8688     Europa     False    55 Cancri e  41.0   True          0.0     6819.0   \n",
       "8689      Earth      True  PSO J318.5-22  18.0  False          0.0        0.0   \n",
       "8690      Earth     False    TRAPPIST-1e  26.0  False          0.0        0.0   \n",
       "8691     Europa     False    55 Cancri e  32.0  False          0.0     1049.0   \n",
       "8692     Europa     False    TRAPPIST-1e  44.0  False        126.0     4688.0   \n",
       "\n",
       "      ShoppingMall     Spa  VRDeck               Name  Transported passGrp  \\\n",
       "0              0.0     0.0     0.0    Maham Ofracculy            0    0001   \n",
       "1             25.0   549.0    44.0       Juanna Vines            1    0002   \n",
       "2              0.0  6715.0    49.0      Altark Susent            0    0003   \n",
       "3            371.0  3329.0   193.0       Solam Susent            0    0003   \n",
       "4            151.0   565.0     2.0  Willy Santantines            1    0004   \n",
       "...            ...     ...     ...                ...          ...     ...   \n",
       "8688           0.0  1643.0    74.0  Gravior Noxnuther            0    9276   \n",
       "8689           0.0     0.0     0.0    Kurta Mondalley            0    9278   \n",
       "8690        1872.0     1.0     0.0       Fayey Connon            1    9279   \n",
       "8691           0.0   353.0  3235.0   Celeon Hontichre            0    9280   \n",
       "8692           0.0     0.0    12.0   Propsh Hontichre            1    9280   \n",
       "\n",
       "     CabinDeck CabinNum CabinSide  \n",
       "0            B        0         P  \n",
       "1            F        0         S  \n",
       "2            A        0         S  \n",
       "3            A        0         S  \n",
       "4            F        1         S  \n",
       "...        ...      ...       ...  \n",
       "8688         A       98         P  \n",
       "8689         G     1499         S  \n",
       "8690         G     1500         S  \n",
       "8691         E      608         S  \n",
       "8692         E      608         S  \n",
       "\n",
       "[8693 rows x 16 columns]"
      ]
     },
     "execution_count": 148,
     "metadata": {},
     "output_type": "execute_result"
    }
   ],
   "source": [
    "SpaceshipTitsnicDataFrame.drop([\"PassengerId\",\"Cabin\"], axis = 1)"
   ]
  },
  {
   "cell_type": "code",
   "execution_count": 149,
   "metadata": {
    "execution": {
     "iopub.execute_input": "2022-08-14T13:17:04.033245Z",
     "iopub.status.busy": "2022-08-14T13:17:04.032833Z",
     "iopub.status.idle": "2022-08-14T13:17:04.282071Z",
     "shell.execute_reply": "2022-08-14T13:17:04.280696Z",
     "shell.execute_reply.started": "2022-08-14T13:17:04.033212Z"
    }
   },
   "outputs": [
    {
     "data": {
      "text/plain": [
       "0       2\n",
       "1       2\n",
       "2       3\n",
       "3       2\n",
       "4       1\n",
       "       ..\n",
       "8688    3\n",
       "8689    1\n",
       "8690    2\n",
       "8691    2\n",
       "8692    3\n",
       "Name: ageList, Length: 8693, dtype: int64"
      ]
     },
     "execution_count": 149,
     "metadata": {},
     "output_type": "execute_result"
    }
   ],
   "source": []
  },
  {
   "cell_type": "code",
   "execution_count": 150,
   "metadata": {
    "execution": {
     "iopub.execute_input": "2022-08-14T13:17:08.582751Z",
     "iopub.status.busy": "2022-08-14T13:17:08.582252Z",
     "iopub.status.idle": "2022-08-14T13:17:08.780081Z",
     "shell.execute_reply": "2022-08-14T13:17:08.779011Z",
     "shell.execute_reply.started": "2022-08-14T13:17:08.582715Z"
    }
   },
   "outputs": [
    {
     "name": "stderr",
     "output_type": "stream",
     "text": [
      "/opt/conda/lib/python3.7/site-packages/seaborn/_decorators.py:43: FutureWarning: Pass the following variable as a keyword arg: x. From version 0.12, the only valid positional argument will be `data`, and passing other arguments without an explicit keyword will result in an error or misinterpretation.\n",
      "  FutureWarning\n"
     ]
    },
    {
     "data": {
      "text/plain": [
       "<AxesSubplot:xlabel='ageList', ylabel='count'>"
      ]
     },
     "execution_count": 150,
     "metadata": {},
     "output_type": "execute_result"
    },
    {
     "data": {
      "image/png": "[encoded data removed]",
      "text/plain": [
       "<Figure size 432x288 with 1 Axes>"
      ]
     },
     "metadata": {
      "needs_background": "light"
     },
     "output_type": "display_data"
    }
   ],
   "source": [
    "sns.countplot(SpaceshipTitsnicDataFrame.ageList, color='Green')"
   ]
  },
  {
   "cell_type": "code",
   "execution_count": null,
   "metadata": {
    "execution": {
     "iopub.execute_input": "2022-08-14T12:33:18.026876Z",
     "iopub.status.busy": "2022-08-14T12:33:18.026316Z",
     "iopub.status.idle": "2022-08-14T12:33:18.045017Z",
     "shell.execute_reply": "2022-08-14T12:33:18.043694Z",
     "shell.execute_reply.started": "2022-08-14T12:33:18.026830Z"
    }
   },
   "outputs": [],
   "source": []
  },
  {
   "cell_type": "code",
   "execution_count": 151,
   "metadata": {
    "execution": {
     "iopub.execute_input": "2022-08-14T13:17:13.842419Z",
     "iopub.status.busy": "2022-08-14T13:17:13.841579Z",
     "iopub.status.idle": "2022-08-14T13:17:14.050657Z",
     "shell.execute_reply": "2022-08-14T13:17:14.049470Z",
     "shell.execute_reply.started": "2022-08-14T13:17:13.842355Z"
    }
   },
   "outputs": [
    {
     "data": {
      "text/plain": [
       "<AxesSubplot:xlabel='VIP', ylabel='ageList'>"
      ]
     },
     "execution_count": 151,
     "metadata": {},
     "output_type": "execute_result"
    },
    {
     "data": {
      "image/png": "[encoded data removed]",
      "text/plain": [
       "<Figure size 432x288 with 1 Axes>"
      ]
     },
     "metadata": {
      "needs_background": "light"
     },
     "output_type": "display_data"
    }
   ],
   "source": [
    "sns.boxplot(data = SpaceshipTitsnicDataFrame, y = \"ageList\", x = \"VIP\")"
   ]
  },
  {
   "cell_type": "code",
   "execution_count": 155,
   "metadata": {
    "execution": {
     "iopub.execute_input": "2022-08-14T13:22:10.658109Z",
     "iopub.status.busy": "2022-08-14T13:22:10.657328Z",
     "iopub.status.idle": "2022-08-14T13:22:11.287186Z",
     "shell.execute_reply": "2022-08-14T13:22:11.285637Z",
     "shell.execute_reply.started": "2022-08-14T13:22:10.658054Z"
    }
   },
   "outputs": [
    {
     "data": {
      "image/png": "[encoded data removed]",
      "text/plain": [
       "<Figure size 1152x432 with 4 Axes>"
      ]
     },
     "metadata": {
      "needs_background": "light"
     },
     "output_type": "display_data"
    }
   ],
   "source": [
    "fix, ax = plt.subplots(2,2 , figsize = (16,6))\n",
    "sns.boxplot(data = SpaceshipTitsnicDataFrame, y = \"ageList\", x = \"Destination\", ax = ax[0,0])\n",
    "sns.boxplot(data = SpaceshipTitsnicDataFrame, y = \"ageList\", x = \"VIP\", ax = ax[0,1])\n",
    "sns.boxplot(data = SpaceshipTitsnicDataFrame, y = \"ageList\", x = \"HomePlanet\", ax = ax[1,0])\n",
    "sns.boxplot(data = SpaceshipTitsnicDataFrame, y = \"ageList\", x = \"CryoSleep\", ax = ax[1,1])\n",
    "plt.show()"
   ]
  },
  {
   "cell_type": "code",
   "execution_count": 157,
   "metadata": {
    "execution": {
     "iopub.execute_input": "2022-08-14T13:24:36.482694Z",
     "iopub.status.busy": "2022-08-14T13:24:36.481690Z",
     "iopub.status.idle": "2022-08-14T13:24:37.138949Z",
     "shell.execute_reply": "2022-08-14T13:24:37.138046Z",
     "shell.execute_reply.started": "2022-08-14T13:24:36.482648Z"
    }
   },
   "outputs": [
    {
     "data": {
      "text/plain": [
       "Text(0.5, 1.0, 'Corelation Matrix')"
      ]
     },
     "execution_count": 157,
     "metadata": {},
     "output_type": "execute_result"
    },
    {
     "data": {
      "image/png": "[encoded data removed]",
      "text/plain": [
       "<Figure size 1008x720 with 2 Axes>"
      ]
     },
     "metadata": {},
     "output_type": "display_data"
    }
   ],
   "source": [
    "#Correlation maxtrix\n",
    "cor = SpaceshipTitsnicDataFrame.corr()\n",
    "sns.set(font_scale=1.15)\n",
    "plt.figure(figsize=(14, 10))\n",
    "sns.heatmap(cor,\n",
    "            vmax=0.9,\n",
    "            linewidths=0.02,\n",
    "            square=True,\n",
    "            annot=True,\n",
    "            cmap='YlGnBu',\n",
    "            linecolor=\"black\")\n",
    "plt.title('Corelation Matrix')"
   ]
  },
  {
   "cell_type": "markdown",
   "metadata": {},
   "source": []
  },
  {
   "cell_type": "code",
   "execution_count": null,
   "metadata": {
    "execution": {
     "iopub.execute_input": "2022-08-14T11:27:26.503223Z",
     "iopub.status.busy": "2022-08-14T11:27:26.502833Z",
     "iopub.status.idle": "2022-08-14T11:27:26.526028Z",
     "shell.execute_reply": "2022-08-14T11:27:26.524830Z",
     "shell.execute_reply.started": "2022-08-14T11:27:26.503194Z"
    }
   },
   "outputs": [],
   "source": [
    "SpaceshipTitsnicDataFrame.dropna(axis=0, subset=[\"Destination\", \"Age\"], inplace=True)\n",
    "Features = [\"PassengerId\", \"HomePlanet\", \"Cabin\", \"Destination\", \"Age\", \"VIP\", \"Name\"]\n",
    "X = SpaceshipTitsnicDataFrame[Features]\n",
    "y = SpaceshipTitsnicDataFrame[\"Destination\"]\n",
    "print(X)\n",
    "print(y)"
   ]
  },
  {
   "cell_type": "code",
   "execution_count": null,
   "metadata": {},
   "outputs": [],
   "source": []
  },
  {
   "cell_type": "code",
   "execution_count": null,
   "metadata": {
    "execution": {
     "iopub.execute_input": "2022-08-14T11:27:34.783257Z",
     "iopub.status.busy": "2022-08-14T11:27:34.782779Z",
     "iopub.status.idle": "2022-08-14T11:27:35.436204Z",
     "shell.execute_reply": "2022-08-14T11:27:35.435035Z",
     "shell.execute_reply.started": "2022-08-14T11:27:34.783220Z"
    }
   },
   "outputs": [],
   "source": [
    "from sklearn.model_selection import train_test_split\n",
    "train_X, val_X, train_y, val_y = train_test_split(X, y, random_state = 1)"
   ]
  },
  {
   "cell_type": "code",
   "execution_count": null,
   "metadata": {},
   "outputs": [],
   "source": []
  },
  {
   "cell_type": "code",
   "execution_count": null,
   "metadata": {
    "execution": {
     "iopub.execute_input": "2022-07-20T11:43:56.885430Z",
     "iopub.status.busy": "2022-07-20T11:43:56.884899Z",
     "iopub.status.idle": "2022-07-20T11:43:56.898883Z",
     "shell.execute_reply": "2022-07-20T11:43:56.897798Z",
     "shell.execute_reply.started": "2022-07-20T11:43:56.885386Z"
    }
   },
   "outputs": [],
   "source": [
    "#one_hot_encoded_train_X = pd.get_dummies(train_X)\n",
    "#one_hot_encoded_train_X.dropna()\n",
    "train_X.describe"
   ]
  },
  {
   "cell_type": "code",
   "execution_count": null,
   "metadata": {
    "execution": {
     "iopub.execute_input": "2022-07-19T09:16:43.950782Z",
     "iopub.status.busy": "2022-07-19T09:16:43.949669Z",
     "iopub.status.idle": "2022-07-19T09:16:43.958492Z",
     "shell.execute_reply": "2022-07-19T09:16:43.957783Z",
     "shell.execute_reply.started": "2022-07-19T09:16:43.950742Z"
    }
   },
   "outputs": [],
   "source": [
    "one_hot_encoded_train_X.dtypes"
   ]
  },
  {
   "cell_type": "code",
   "execution_count": null,
   "metadata": {
    "execution": {
     "iopub.execute_input": "2022-07-19T09:22:32.587529Z",
     "iopub.status.busy": "2022-07-19T09:22:32.587206Z",
     "iopub.status.idle": "2022-07-19T09:22:48.144938Z",
     "shell.execute_reply": "2022-07-19T09:22:48.143820Z",
     "shell.execute_reply.started": "2022-07-19T09:22:32.587499Z"
    }
   },
   "outputs": [],
   "source": [
    "#one_hot_encoded_train_X.describe()"
   ]
  },
  {
   "cell_type": "code",
   "execution_count": null,
   "metadata": {
    "execution": {
     "iopub.execute_input": "2022-07-19T09:22:01.826032Z",
     "iopub.status.busy": "2022-07-19T09:22:01.825637Z",
     "iopub.status.idle": "2022-07-19T09:22:02.021287Z",
     "shell.execute_reply": "2022-07-19T09:22:02.020173Z",
     "shell.execute_reply.started": "2022-07-19T09:22:01.826000Z"
    }
   },
   "outputs": [],
   "source": [
    "#one_hot_encoded_train_X.dropna(axis = 0,subset = [\"Age\"], inplace = True)"
   ]
  },
  {
   "cell_type": "code",
   "execution_count": null,
   "metadata": {
    "execution": {
     "iopub.execute_input": "2022-07-20T11:42:35.505259Z",
     "iopub.status.busy": "2022-07-20T11:42:35.504711Z",
     "iopub.status.idle": "2022-07-20T11:42:35.528599Z",
     "shell.execute_reply": "2022-07-20T11:42:35.527098Z",
     "shell.execute_reply.started": "2022-07-20T11:42:35.505209Z"
    }
   },
   "outputs": [],
   "source": [
    "train_X.describe()"
   ]
  },
  {
   "cell_type": "code",
   "execution_count": null,
   "metadata": {
    "execution": {
     "iopub.execute_input": "2022-07-20T11:56:16.723601Z",
     "iopub.status.busy": "2022-07-20T11:56:16.723101Z",
     "iopub.status.idle": "2022-07-20T11:56:16.760581Z",
     "shell.execute_reply": "2022-07-20T11:56:16.758999Z",
     "shell.execute_reply.started": "2022-07-20T11:56:16.723564Z"
    }
   },
   "outputs": [],
   "source": [
    "from sklearn.ensemble import RandomForestRegressor\n",
    "SpaceshipTitanicModel = RandomForestRegressor(random_state = 1)\n",
    "SpaceshipTitanicModel.fit(train_X, train_y)"
   ]
  },
  {
   "cell_type": "code",
   "execution_count": null,
   "metadata": {},
   "outputs": [],
   "source": []
  },
  {
   "cell_type": "code",
   "execution_count": null,
   "metadata": {},
   "outputs": [],
   "source": []
  }
 ],
 "metadata": {
  "kernelspec": {
   "display_name": "Python 3 (ipykernel)",
   "language": "python",
   "name": "python3"
  },
  "language_info": {
   "codemirror_mode": {
    "name": "ipython",
    "version": 3
   },
   "file_extension": ".py",
   "mimetype": "text/x-python",
   "name": "python",
   "nbconvert_exporter": "python",
   "pygments_lexer": "ipython3",
   "version": "3.9.7"
  }
 },
 "nbformat": 4,
 "nbformat_minor": 4
}
